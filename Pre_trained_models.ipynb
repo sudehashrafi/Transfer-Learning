{
  "nbformat": 4,
  "nbformat_minor": 0,
  "metadata": {
    "colab": {
      "provenance": []
    },
    "kernelspec": {
      "name": "python3",
      "display_name": "Python 3"
    },
    "language_info": {
      "name": "python"
    }
  },
  "cells": [
    {
      "cell_type": "markdown",
      "source": [
        "# Pre-trained models\n",
        "\n",
        "Pretrained models are neural network models that have been previously trained on large datasets, such as ImageNet, to learn useful features that can be leveraged in new tasks.\n",
        "\n",
        "- instead of fine-tuning these models for new tasks, we can use them directly as feature extractors.\n",
        "\n",
        "- This approach involves using the pretrained model to extract high-level features from new data, which can then be used for various downstream tasks without additional training.\n",
        "\n",
        "- This method is beneficial when you want to utilize the powerful feature extraction capabilities of these models without modifying the original weights through retraining.\n",
        "\n",
        "- Using pretrained models as feature extractors offer several unique benefits, including additional training is not required. Since the model is used as a feature extractor without any retraining, it is faster to implement and requires significantly less computational power.\n",
        "\n",
        "- Efficient use of learned features. The pretrained model's convolutional layers, which are used to extract features, capture rich hierarchical representations that can be utilized for various tasks like clustering or visualizations.\n",
        "\n",
        "- Suitable for limited resources. This approach is ideal when computational resources are limited or when the new task does not have sufficiently large dataset to justify full model training or fine-tuning.\n",
        "\n"
      ],
      "metadata": {
        "id": "OjahAmJZPXSm"
      }
    },
    {
      "cell_type": "code",
      "execution_count": null,
      "metadata": {
        "id": "9rV42GMHO5dp"
      },
      "outputs": [],
      "source": [
        "import os\n",
        "import shutil\n",
        "from PIL import Image\n",
        "import numpy as np"
      ]
    },
    {
      "cell_type": "code",
      "source": [
        "base_dir = 'sample_data'\n",
        "class1_dir = os.path.join(base_dir, 'class1')\n",
        "class2_dir = os.path.join(base_dir, 'class2')\n",
        "\n",
        "os.makedirs(class1_dir, exist_ok=True)\n",
        "os.makedirs(class2_dir, exist_ok=True)"
      ],
      "metadata": {
        "id": "wWYX87AgPV7f"
      },
      "execution_count": null,
      "outputs": []
    },
    {
      "cell_type": "code",
      "source": [
        "def generate_random_images(save_dir, num_images):\n",
        "  for i in range(num_images):\n",
        "    image = Image.new('RGB', (224, 224))\n",
        "    image_path = os.path.join(save_dir, f'image_{i}.jpg')\n",
        "    image.save(image_path)"
      ],
      "metadata": {
        "id": "g6DC4bmkPV94"
      },
      "execution_count": null,
      "outputs": []
    },
    {
      "cell_type": "code",
      "source": [
        "num_images_per_class = 100\n",
        "generate_random_images(class1_dir, num_images_per_class)\n",
        "generate_random_images(class2_dir, num_images_per_class)"
      ],
      "metadata": {
        "id": "kkp6-VMUPWAZ"
      },
      "execution_count": null,
      "outputs": []
    },
    {
      "cell_type": "code",
      "source": [
        "from tensorflow.keras.applications import VGG16\n",
        "from tensorflow.keras.models import Sequential\n",
        "from tensorflow.keras.layers import Dense, Flatten\n",
        "from tensorflow.keras.preprocessing.image import ImageDataGenerator\n",
        "from tensorflow.keras.optimizers import Adam"
      ],
      "metadata": {
        "id": "-YaMcHcUPWDI"
      },
      "execution_count": null,
      "outputs": []
    },
    {
      "cell_type": "code",
      "source": [
        "base_modele = VGG16(weights='imagenet', include_top=False, input_shape=(224, 224, 3))\n",
        "\n",
        "for layer in base_modele.layers:\n",
        "  layer.trainable = False"
      ],
      "metadata": {
        "id": "vTPWfj0cPWFs"
      },
      "execution_count": null,
      "outputs": []
    },
    {
      "cell_type": "code",
      "source": [
        "model = Sequential()\n",
        "model.add(base_modele)\n",
        "model.add(Flatten())\n",
        "model.add(Dense(256, activation='relu'))\n",
        "model.add(Dense(1, activation='sigmoid'))"
      ],
      "metadata": {
        "id": "wLHY8S9NPWIU"
      },
      "execution_count": null,
      "outputs": []
    },
    {
      "cell_type": "code",
      "source": [
        "model.compile(optimizer=Adam(learning_rate=0.0001), loss='binary_crossentropy', metrics=['accuracy'])\n",
        "model.fit(train_generator, epochs=10)"
      ],
      "metadata": {
        "id": "x61tOkziPWKh"
      },
      "execution_count": null,
      "outputs": []
    },
    {
      "cell_type": "code",
      "source": [],
      "metadata": {
        "id": "K7C-Sr9SPWM6"
      },
      "execution_count": null,
      "outputs": []
    },
    {
      "cell_type": "code",
      "source": [],
      "metadata": {
        "id": "0Sc7XwQSPWPY"
      },
      "execution_count": null,
      "outputs": []
    },
    {
      "cell_type": "code",
      "source": [],
      "metadata": {
        "id": "g1qU3asTPWRu"
      },
      "execution_count": null,
      "outputs": []
    },
    {
      "cell_type": "code",
      "source": [],
      "metadata": {
        "id": "QiRgKCj2PWUM"
      },
      "execution_count": null,
      "outputs": []
    },
    {
      "cell_type": "code",
      "source": [],
      "metadata": {
        "id": "1ZMyHhqmPWWX"
      },
      "execution_count": null,
      "outputs": []
    },
    {
      "cell_type": "code",
      "source": [],
      "metadata": {
        "id": "aWCJ7TwePWYw"
      },
      "execution_count": null,
      "outputs": []
    },
    {
      "cell_type": "code",
      "source": [],
      "metadata": {
        "id": "4N_9AN9vPWbD"
      },
      "execution_count": null,
      "outputs": []
    },
    {
      "cell_type": "code",
      "source": [],
      "metadata": {
        "id": "Y0FUFUfnPWdT"
      },
      "execution_count": null,
      "outputs": []
    },
    {
      "cell_type": "code",
      "source": [],
      "metadata": {
        "id": "UCTpM4b8PWfw"
      },
      "execution_count": null,
      "outputs": []
    },
    {
      "cell_type": "code",
      "source": [],
      "metadata": {
        "id": "WHVkqqNPPWhv"
      },
      "execution_count": null,
      "outputs": []
    }
  ]
}